{
 "cells": [
  {
   "cell_type": "code",
   "execution_count": 214,
   "metadata": {},
   "outputs": [],
   "source": [
    "import pandas as pd\n",
    "import numpy as np\n",
    "import matplotlib.pyplot as plt"
   ]
  },
  {
   "cell_type": "code",
   "execution_count": 194,
   "metadata": {},
   "outputs": [],
   "source": [
    "train_path = '../data/tiantic/train.csv'\n",
    "test_path = '../data/tiantic/test.csv'\n",
    "\n",
    "data = pd.read_csv(train_path)\n",
    "test_data = pd.read_csv(test_path)"
   ]
  },
  {
   "cell_type": "code",
   "execution_count": 220,
   "metadata": {},
   "outputs": [],
   "source": [
    "def plot_confusion_matrix(matrix, classes, title=\"Confusion Matrix\", cmap=plt.cm.Blues):\n",
    "    plt.imshow(matrix, interpolation='nearest', cmap=cmap) #interpolation: 把某块显示成一种颜色\n",
    "    plt.title(title)\n",
    "    plt.colorbar()\n",
    "    tick_marks = np.arange(len(classes))\n",
    "    thresh = matrix.max() / 2.\n",
    "    \n",
    "    #plt.xticks : 第一个数组参数是标示的位置，第二个数组是标示的文字\n",
    "    plt.xticks(tick_marks, classes) \n",
    "    plt.yticks(tick_marks, classes)\n",
    "    for y in range(len(matrix)):\n",
    "        for x in range(len(matrix[0])):\n",
    "            plt.text(x, y, matrix[y,x]\n",
    "                    ,horizontalalignment=\"center\" \n",
    "                    ,color=\"white\" if matrix[y,x] > thresh else \"black\")\n",
    "    plt.tight_layout()\n",
    "    plt.ylabel('True label')\n",
    "    plt.xlabel('Predicted label')"
   ]
  },
  {
   "cell_type": "markdown",
   "metadata": {},
   "source": [
    "## 数据预处理"
   ]
  },
  {
   "cell_type": "code",
   "execution_count": 202,
   "metadata": {},
   "outputs": [],
   "source": [
    "def preprocess(data):\n",
    "    # 填充空数据\n",
    "    data['Age'] = data['Age'].fillna(data['Age'].median())\n",
    "    data['Embarked'] = data['Embarked'].fillna('S')\n",
    "    data['Fare'] = data['Fare'].fillna(data['Fare'].median())\n",
    "\n",
    "    # 将年龄转换字符型为数字型\n",
    "    data.loc[data['Sex'] == 'male', 'Sex'] = 0\n",
    "    data.loc[data['Sex'] == 'female', 'Sex'] = 0\n",
    "    data.loc[data['Embarked'] == 'S', 'Embarked'] = 0\n",
    "    data.loc[data['Embarked'] == 'Q', 'Embarked'] = 1\n",
    "    data.loc[data['Embarked'] == 'C', 'Embarked'] = 2\n",
    "preprocess(data)\n",
    "preprocess(test_data)"
   ]
  },
  {
   "cell_type": "markdown",
   "metadata": {},
   "source": [
    "### 线性回归与逻辑回归模型预测"
   ]
  },
  {
   "cell_type": "code",
   "execution_count": 212,
   "metadata": {},
   "outputs": [],
   "source": [
    "from sklearn.model_selection import train_test_split\n",
    "from sklearn.linear_model import LinearRegression, LogisticRegression\n",
    "from sklearn.model_selection import KFold\n",
    "from sklearn.metrics import accuracy_score, confusion_matrix"
   ]
  },
  {
   "cell_type": "code",
   "execution_count": 192,
   "metadata": {},
   "outputs": [
    {
     "name": "stdout",
     "output_type": "stream",
     "text": [
      "线性回归算法精确度：0.708\n",
      "逻辑回归算法精确度：0.706\n"
     ]
    }
   ],
   "source": [
    "lr_features = ['Pclass', 'Sex', 'Age', 'SibSp', 'Parch', 'Fare', 'Embarked']\n",
    "x_data = data.loc[:, lr_features]\n",
    "y_data = data['Survived']\n",
    "\n",
    "# 划分训练集与测试集\n",
    "lr_x_train, lr_x_test, lr_y_train, lr_y_test = train_test_split(lr_x_data, lr_y_data, test_size=0.2)\n",
    "\n",
    "# 交叉验证\n",
    "kf = KFold(n_splits=5, random_state=42)\n",
    "lr_accuracies = []\n",
    "lgr_accuracies = []\n",
    "\n",
    "lr = LinearRegression()\n",
    "lgr = LogisticRegression(C=10, penalty='l2', solver='liblinear')\n",
    "    \n",
    "for train, test in kf.split(lr_x_train):\n",
    "    lr.fit(lr_x_train.iloc[train, :], lr_y_train.iloc[train])\n",
    "    lgr.fit(lr_x_train.iloc[train, :], lr_y_train.iloc[train])\n",
    "    \n",
    "    lr_predict = lr.predict(lr_x_train.iloc[test, :])\n",
    "    lgr_predict = lgr.predict(lr_x_train.iloc[test, :])\n",
    "    \n",
    "    lr_predictions = np.zeros(len(lr_predict))\n",
    "    lr_predictions[lr_predict > 0.5] = 1\n",
    "    \n",
    "    lr_accuracy = accuracy_score(lr_y_train.iloc[test].values, lr_predictions)\n",
    "    lgr_accuracy = accuracy_score(lr_y_train.iloc[test].values, lgr_predict)\n",
    "    \n",
    "    lr_accuracies.append(lr_accuracy)\n",
    "    lgr_accuracies.append(lgr_accuracy) \n",
    "    \n",
    "    \n",
    "print('线性回归算法精确度：%.3f' % np.mean(lr_accuracies))\n",
    "print('逻辑回归算法精确度：%.3f' % np.mean(lgr_accuracies))"
   ]
  },
  {
   "cell_type": "code",
   "execution_count": 190,
   "metadata": {},
   "outputs": [
    {
     "name": "stdout",
     "output_type": "stream",
     "text": [
      "线性回归算法精确度：0.6983\n",
      "逻辑回归算法精确度：0.7263\n"
     ]
    }
   ],
   "source": [
    "lr.fit(lr_x_train, lr_y_train)\n",
    "lgr.fit(lr_x_train, lr_y_train)\n",
    "\n",
    "lr_predictions_proba = lr.predict(lr_x_test)\n",
    "lr_predictions = np.zeros(len(lr_predictions_proba))\n",
    "lr_predictions[lr_predictions_proba > 0.5] = 1\n",
    "\n",
    "lgr_predictions = lgr.predict(lr_x_test)\n",
    "\n",
    "lr_accuracy = accuracy_score(lr_y_test, lr_predictions)\n",
    "lgr_accuracy = accuracy_score(lr_y_test, lgr_predictions)\n",
    "\n",
    "print('线性回归算法精确度：%.4f' % np.mean(lr_accuracy))\n",
    "print('逻辑回归算法精确度：%.4f' % np.mean(lgr_accuracy))"
   ]
  },
  {
   "cell_type": "markdown",
   "metadata": {},
   "source": [
    "### 随机森林"
   ]
  },
  {
   "cell_type": "code",
   "execution_count": 158,
   "metadata": {},
   "outputs": [],
   "source": [
    "from sklearn.ensemble import RandomForestClassifier\n",
    "from sklearn.model_selection import cross_val_score"
   ]
  },
  {
   "cell_type": "code",
   "execution_count": null,
   "metadata": {},
   "outputs": [],
   "source": []
  },
  {
   "cell_type": "markdown",
   "metadata": {},
   "source": [
    " **min_samples_leaf**：这个值限制了叶子节点最少的样本数，如果某叶子节点数目小于样本数，则会和兄弟节点一起被剪枝。 默认是1,可以输入最少的样本数的整数，或者最少样本数占样本总数的百分比。如果样本量不大，不需要管这个值。如果样本量数量级非常大，则推荐增大这个值。之前的10万样本项目使用min_samples_leaf的值为5，仅供参考。\n",
    "\n",
    "**min_samples_split**：这个值限制了子树继续划分的条件，如果某节点的样本数少于min_samples_split，则不会继续再尝试选择最优特征来进行划分。 默认是2.如果样本量不大，不需要管这个值。如果样本量数量级非常大，则推荐增大这个值。我之前的一个项目例子，有大概10万样本，建立决策树时，我选择了min_samples_split=10。可以作为参考。"
   ]
  },
  {
   "cell_type": "code",
   "execution_count": 218,
   "metadata": {
    "scrolled": true
   },
   "outputs": [
    {
     "name": "stdout",
     "output_type": "stream",
     "text": [
      "0.7239407444604857\n",
      "精度： 0.856341189674523\n"
     ]
    },
    {
     "data": {
      "image/png": "[encoded data removed]",
      "text/plain": [
       "<Figure size 432x288 with 2 Axes>"
      ]
     },
     "metadata": {
      "needs_background": "light"
     },
     "output_type": "display_data"
    }
   ],
   "source": [
    "rfc = RandomForestClassifier(random_state=1, n_estimators=55, min_samples_leaf=2, min_samples_split=2)\n",
    "\n",
    "kf = KFold(5)\n",
    "\n",
    "course = cross_val_score(rfc, x_data, y_data, cv=kf)\n",
    "print(np.mean(course))\n",
    "\n",
    "rfc.fit(x_data, y_data)\n",
    "predict = rfc.predict(x_data)\n",
    "score = accuracy_score(y_data.values.ravel(), predict)\n",
    "\n",
    "cm = confusion_matrix(y_data.values.ravel(), predict)\n",
    "plot_confusion_matrix(cm, classes=[0,1])\n",
    "print(\"精度：\", score)\n"
   ]
  },
  {
   "cell_type": "markdown",
   "metadata": {},
   "source": [
    "### 自动特征选择"
   ]
  },
  {
   "cell_type": "code",
   "execution_count": 221,
   "metadata": {},
   "outputs": [],
   "source": [
    "from sklearn.feature_selection import SelectKBest, f_classif"
   ]
  },
  {
   "cell_type": "code",
   "execution_count": 222,
   "metadata": {},
   "outputs": [],
   "source": [
    "selector = SelectKBest(f_classif, k='all')"
   ]
  },
  {
   "cell_type": "code",
   "execution_count": 223,
   "metadata": {},
   "outputs": [
    {
     "name": "stderr",
     "output_type": "stream",
     "text": [
      "/Users/zheng/anaconda3/lib/python3.7/site-packages/sklearn/feature_selection/univariate_selection.py:114: UserWarning: Features [1] are constant.\n",
      "  UserWarning)\n",
      "/Users/zheng/anaconda3/lib/python3.7/site-packages/sklearn/feature_selection/univariate_selection.py:115: RuntimeWarning: invalid value encountered in true_divide\n",
      "  f = msb / msw\n"
     ]
    },
    {
     "data": {
      "text/plain": [
       "SelectKBest(k='all', score_func=<function f_classif at 0x1a10e5d268>)"
      ]
     },
     "execution_count": 223,
     "metadata": {},
     "output_type": "execute_result"
    }
   ],
   "source": [
    "selector.fit(x_data, y_data)\n"
   ]
  },
  {
   "cell_type": "code",
   "execution_count": 224,
   "metadata": {},
   "outputs": [
    {
     "data": {
      "text/plain": [
       "array([115.03127219,          nan,   3.76152805,   1.1105722 ,\n",
       "         5.96346384,  63.03076423,  25.71728646])"
      ]
     },
     "execution_count": 224,
     "metadata": {},
     "output_type": "execute_result"
    }
   ],
   "source": [
    "selector.scores_"
   ]
  },
  {
   "cell_type": "code",
   "execution_count": 225,
   "metadata": {},
   "outputs": [
    {
     "data": {
      "text/plain": [
       "7"
      ]
     },
     "execution_count": 225,
     "metadata": {},
     "output_type": "execute_result"
    }
   ],
   "source": [
    "len(lr_features)"
   ]
  },
  {
   "cell_type": "code",
   "execution_count": 226,
   "metadata": {},
   "outputs": [
    {
     "data": {
      "text/plain": [
       "['Pclass', 'Sex', 'Age', 'SibSp', 'Parch', 'Fare', 'Embarked']"
      ]
     },
     "execution_count": 226,
     "metadata": {},
     "output_type": "execute_result"
    }
   ],
   "source": [
    "lr_features"
   ]
  },
  {
   "cell_type": "code",
   "execution_count": null,
   "metadata": {},
   "outputs": [],
   "source": []
  }
 ],
 "metadata": {
  "kernelspec": {
   "display_name": "Python 3",
   "language": "python",
   "name": "python3"
  },
  "language_info": {
   "codemirror_mode": {
    "name": "ipython",
    "version": 3
   },
   "file_extension": ".py",
   "mimetype": "text/x-python",
   "name": "python",
   "nbconvert_exporter": "python",
   "pygments_lexer": "ipython3",
   "version": "3.7.3"
  }
 },
 "nbformat": 4,
 "nbformat_minor": 2
}
