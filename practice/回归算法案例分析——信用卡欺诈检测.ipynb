{
 "cells": [
  {
   "cell_type": "markdown",
   "metadata": {},
   "source": [
    "### 二分类任务\n",
    "数据中有正常的数据和异常数据（被欺诈）\n",
    "<br><br>**样本不均衡处理方法**\n",
    "1. 下采样：减少多的特征值的数量\n",
    "2. 上采样：增加少的特征值的数量\n"
   ]
  },
  {
   "cell_type": "code",
   "execution_count": 1,
   "metadata": {},
   "outputs": [],
   "source": [
    "import numpy as np\n",
    "import pandas as pd\n",
    "import matplotlib.pyplot as plt"
   ]
  },
  {
   "cell_type": "code",
   "execution_count": 2,
   "metadata": {},
   "outputs": [
    {
     "data": {
      "text/html": [
       "<div>\n",
       "<style scoped>\n",
       "    .dataframe tbody tr th:only-of-type {\n",
       "        vertical-align: middle;\n",
       "    }\n",
       "\n",
       "    .dataframe tbody tr th {\n",
       "        vertical-align: top;\n",
       "    }\n",
       "\n",
       "    .dataframe thead th {\n",
       "        text-align: right;\n",
       "    }\n",
       "</style>\n",
       "<table border=\"1\" class=\"dataframe\">\n",
       "  <thead>\n",
       "    <tr style=\"text-align: right;\">\n",
       "      <th></th>\n",
       "      <th>Time</th>\n",
       "      <th>V1</th>\n",
       "      <th>V2</th>\n",
       "      <th>V3</th>\n",
       "      <th>V4</th>\n",
       "      <th>V5</th>\n",
       "      <th>V6</th>\n",
       "      <th>V7</th>\n",
       "      <th>V8</th>\n",
       "      <th>V9</th>\n",
       "      <th>...</th>\n",
       "      <th>V21</th>\n",
       "      <th>V22</th>\n",
       "      <th>V23</th>\n",
       "      <th>V24</th>\n",
       "      <th>V25</th>\n",
       "      <th>V26</th>\n",
       "      <th>V27</th>\n",
       "      <th>V28</th>\n",
       "      <th>Amount</th>\n",
       "      <th>Class</th>\n",
       "    </tr>\n",
       "  </thead>\n",
       "  <tbody>\n",
       "    <tr>\n",
       "      <th>0</th>\n",
       "      <td>0.0</td>\n",
       "      <td>-1.359807</td>\n",
       "      <td>-0.072781</td>\n",
       "      <td>2.536347</td>\n",
       "      <td>1.378155</td>\n",
       "      <td>-0.338321</td>\n",
       "      <td>0.462388</td>\n",
       "      <td>0.239599</td>\n",
       "      <td>0.098698</td>\n",
       "      <td>0.363787</td>\n",
       "      <td>...</td>\n",
       "      <td>-0.018307</td>\n",
       "      <td>0.277838</td>\n",
       "      <td>-0.110474</td>\n",
       "      <td>0.066928</td>\n",
       "      <td>0.128539</td>\n",
       "      <td>-0.189115</td>\n",
       "      <td>0.133558</td>\n",
       "      <td>-0.021053</td>\n",
       "      <td>149.62</td>\n",
       "      <td>0</td>\n",
       "    </tr>\n",
       "    <tr>\n",
       "      <th>1</th>\n",
       "      <td>0.0</td>\n",
       "      <td>1.191857</td>\n",
       "      <td>0.266151</td>\n",
       "      <td>0.166480</td>\n",
       "      <td>0.448154</td>\n",
       "      <td>0.060018</td>\n",
       "      <td>-0.082361</td>\n",
       "      <td>-0.078803</td>\n",
       "      <td>0.085102</td>\n",
       "      <td>-0.255425</td>\n",
       "      <td>...</td>\n",
       "      <td>-0.225775</td>\n",
       "      <td>-0.638672</td>\n",
       "      <td>0.101288</td>\n",
       "      <td>-0.339846</td>\n",
       "      <td>0.167170</td>\n",
       "      <td>0.125895</td>\n",
       "      <td>-0.008983</td>\n",
       "      <td>0.014724</td>\n",
       "      <td>2.69</td>\n",
       "      <td>0</td>\n",
       "    </tr>\n",
       "    <tr>\n",
       "      <th>2</th>\n",
       "      <td>1.0</td>\n",
       "      <td>-1.358354</td>\n",
       "      <td>-1.340163</td>\n",
       "      <td>1.773209</td>\n",
       "      <td>0.379780</td>\n",
       "      <td>-0.503198</td>\n",
       "      <td>1.800499</td>\n",
       "      <td>0.791461</td>\n",
       "      <td>0.247676</td>\n",
       "      <td>-1.514654</td>\n",
       "      <td>...</td>\n",
       "      <td>0.247998</td>\n",
       "      <td>0.771679</td>\n",
       "      <td>0.909412</td>\n",
       "      <td>-0.689281</td>\n",
       "      <td>-0.327642</td>\n",
       "      <td>-0.139097</td>\n",
       "      <td>-0.055353</td>\n",
       "      <td>-0.059752</td>\n",
       "      <td>378.66</td>\n",
       "      <td>0</td>\n",
       "    </tr>\n",
       "    <tr>\n",
       "      <th>3</th>\n",
       "      <td>1.0</td>\n",
       "      <td>-0.966272</td>\n",
       "      <td>-0.185226</td>\n",
       "      <td>1.792993</td>\n",
       "      <td>-0.863291</td>\n",
       "      <td>-0.010309</td>\n",
       "      <td>1.247203</td>\n",
       "      <td>0.237609</td>\n",
       "      <td>0.377436</td>\n",
       "      <td>-1.387024</td>\n",
       "      <td>...</td>\n",
       "      <td>-0.108300</td>\n",
       "      <td>0.005274</td>\n",
       "      <td>-0.190321</td>\n",
       "      <td>-1.175575</td>\n",
       "      <td>0.647376</td>\n",
       "      <td>-0.221929</td>\n",
       "      <td>0.062723</td>\n",
       "      <td>0.061458</td>\n",
       "      <td>123.50</td>\n",
       "      <td>0</td>\n",
       "    </tr>\n",
       "    <tr>\n",
       "      <th>4</th>\n",
       "      <td>2.0</td>\n",
       "      <td>-1.158233</td>\n",
       "      <td>0.877737</td>\n",
       "      <td>1.548718</td>\n",
       "      <td>0.403034</td>\n",
       "      <td>-0.407193</td>\n",
       "      <td>0.095921</td>\n",
       "      <td>0.592941</td>\n",
       "      <td>-0.270533</td>\n",
       "      <td>0.817739</td>\n",
       "      <td>...</td>\n",
       "      <td>-0.009431</td>\n",
       "      <td>0.798278</td>\n",
       "      <td>-0.137458</td>\n",
       "      <td>0.141267</td>\n",
       "      <td>-0.206010</td>\n",
       "      <td>0.502292</td>\n",
       "      <td>0.219422</td>\n",
       "      <td>0.215153</td>\n",
       "      <td>69.99</td>\n",
       "      <td>0</td>\n",
       "    </tr>\n",
       "    <tr>\n",
       "      <th>5</th>\n",
       "      <td>2.0</td>\n",
       "      <td>-0.425966</td>\n",
       "      <td>0.960523</td>\n",
       "      <td>1.141109</td>\n",
       "      <td>-0.168252</td>\n",
       "      <td>0.420987</td>\n",
       "      <td>-0.029728</td>\n",
       "      <td>0.476201</td>\n",
       "      <td>0.260314</td>\n",
       "      <td>-0.568671</td>\n",
       "      <td>...</td>\n",
       "      <td>-0.208254</td>\n",
       "      <td>-0.559825</td>\n",
       "      <td>-0.026398</td>\n",
       "      <td>-0.371427</td>\n",
       "      <td>-0.232794</td>\n",
       "      <td>0.105915</td>\n",
       "      <td>0.253844</td>\n",
       "      <td>0.081080</td>\n",
       "      <td>3.67</td>\n",
       "      <td>0</td>\n",
       "    </tr>\n",
       "  </tbody>\n",
       "</table>\n",
       "<p>6 rows × 31 columns</p>\n",
       "</div>"
      ],
      "text/plain": [
       "   Time        V1        V2        V3        V4        V5        V6        V7  \\\n",
       "0   0.0 -1.359807 -0.072781  2.536347  1.378155 -0.338321  0.462388  0.239599   \n",
       "1   0.0  1.191857  0.266151  0.166480  0.448154  0.060018 -0.082361 -0.078803   \n",
       "2   1.0 -1.358354 -1.340163  1.773209  0.379780 -0.503198  1.800499  0.791461   \n",
       "3   1.0 -0.966272 -0.185226  1.792993 -0.863291 -0.010309  1.247203  0.237609   \n",
       "4   2.0 -1.158233  0.877737  1.548718  0.403034 -0.407193  0.095921  0.592941   \n",
       "5   2.0 -0.425966  0.960523  1.141109 -0.168252  0.420987 -0.029728  0.476201   \n",
       "\n",
       "         V8        V9  ...       V21       V22       V23       V24       V25  \\\n",
       "0  0.098698  0.363787  ... -0.018307  0.277838 -0.110474  0.066928  0.128539   \n",
       "1  0.085102 -0.255425  ... -0.225775 -0.638672  0.101288 -0.339846  0.167170   \n",
       "2  0.247676 -1.514654  ...  0.247998  0.771679  0.909412 -0.689281 -0.327642   \n",
       "3  0.377436 -1.387024  ... -0.108300  0.005274 -0.190321 -1.175575  0.647376   \n",
       "4 -0.270533  0.817739  ... -0.009431  0.798278 -0.137458  0.141267 -0.206010   \n",
       "5  0.260314 -0.568671  ... -0.208254 -0.559825 -0.026398 -0.371427 -0.232794   \n",
       "\n",
       "        V26       V27       V28  Amount  Class  \n",
       "0 -0.189115  0.133558 -0.021053  149.62      0  \n",
       "1  0.125895 -0.008983  0.014724    2.69      0  \n",
       "2 -0.139097 -0.055353 -0.059752  378.66      0  \n",
       "3 -0.221929  0.062723  0.061458  123.50      0  \n",
       "4  0.502292  0.219422  0.215153   69.99      0  \n",
       "5  0.105915  0.253844  0.081080    3.67      0  \n",
       "\n",
       "[6 rows x 31 columns]"
      ]
     },
     "execution_count": 2,
     "metadata": {},
     "output_type": "execute_result"
    }
   ],
   "source": [
    "data_path = '../data/creditcard.csv'\n",
    "data = pd.read_csv(data_path)\n",
    "data.head(6) # 查看数据的前n行"
   ]
  },
  {
   "cell_type": "markdown",
   "metadata": {},
   "source": [
    "##### 字段解释：\n",
    "V1-V28 为特征值\n",
    "<br>class 为标签。1：异常（负样本），0：正常（正样本）"
   ]
  },
  {
   "cell_type": "code",
   "execution_count": 3,
   "metadata": {},
   "outputs": [
    {
     "data": {
      "text/plain": [
       "Text(0, 0.5, 'Frequency')"
      ]
     },
     "execution_count": 3,
     "metadata": {},
     "output_type": "execute_result"
    },
    {
     "data": {
      "image/png": "[encoded data removed]",
      "text/plain": [
       "<Figure size 432x288 with 1 Axes>"
      ]
     },
     "metadata": {
      "needs_background": "light"
     },
     "output_type": "display_data"
    }
   ],
   "source": [
    "count_classes = pd.value_counts(data['Class'], sort=True) # 统计数据中各个数据值的数量\n",
    "count_classes.plot(kind='bar') # 使用pands直接画出柱状图\n",
    "plt.title('fraud class histogram')\n",
    "plt.xlabel(\"Class\")\n",
    "plt.ylabel(\"Frequency\")"
   ]
  },
  {
   "cell_type": "markdown",
   "metadata": {},
   "source": [
    "#### 特征缩放"
   ]
  },
  {
   "cell_type": "code",
   "execution_count": 5,
   "metadata": {},
   "outputs": [
    {
     "data": {
      "text/html": [
       "<div>\n",
       "<style scoped>\n",
       "    .dataframe tbody tr th:only-of-type {\n",
       "        vertical-align: middle;\n",
       "    }\n",
       "\n",
       "    .dataframe tbody tr th {\n",
       "        vertical-align: top;\n",
       "    }\n",
       "\n",
       "    .dataframe thead th {\n",
       "        text-align: right;\n",
       "    }\n",
       "</style>\n",
       "<table border=\"1\" class=\"dataframe\">\n",
       "  <thead>\n",
       "    <tr style=\"text-align: right;\">\n",
       "      <th></th>\n",
       "      <th>V1</th>\n",
       "      <th>V2</th>\n",
       "      <th>V3</th>\n",
       "      <th>V4</th>\n",
       "      <th>V5</th>\n",
       "      <th>V6</th>\n",
       "      <th>V7</th>\n",
       "      <th>V8</th>\n",
       "      <th>V9</th>\n",
       "      <th>V10</th>\n",
       "      <th>...</th>\n",
       "      <th>V21</th>\n",
       "      <th>V22</th>\n",
       "      <th>V23</th>\n",
       "      <th>V24</th>\n",
       "      <th>V25</th>\n",
       "      <th>V26</th>\n",
       "      <th>V27</th>\n",
       "      <th>V28</th>\n",
       "      <th>Class</th>\n",
       "      <th>normAmount</th>\n",
       "    </tr>\n",
       "  </thead>\n",
       "  <tbody>\n",
       "    <tr>\n",
       "      <th>0</th>\n",
       "      <td>-1.359807</td>\n",
       "      <td>-0.072781</td>\n",
       "      <td>2.536347</td>\n",
       "      <td>1.378155</td>\n",
       "      <td>-0.338321</td>\n",
       "      <td>0.462388</td>\n",
       "      <td>0.239599</td>\n",
       "      <td>0.098698</td>\n",
       "      <td>0.363787</td>\n",
       "      <td>0.090794</td>\n",
       "      <td>...</td>\n",
       "      <td>-0.018307</td>\n",
       "      <td>0.277838</td>\n",
       "      <td>-0.110474</td>\n",
       "      <td>0.066928</td>\n",
       "      <td>0.128539</td>\n",
       "      <td>-0.189115</td>\n",
       "      <td>0.133558</td>\n",
       "      <td>-0.021053</td>\n",
       "      <td>0</td>\n",
       "      <td>0.244964</td>\n",
       "    </tr>\n",
       "    <tr>\n",
       "      <th>1</th>\n",
       "      <td>1.191857</td>\n",
       "      <td>0.266151</td>\n",
       "      <td>0.166480</td>\n",
       "      <td>0.448154</td>\n",
       "      <td>0.060018</td>\n",
       "      <td>-0.082361</td>\n",
       "      <td>-0.078803</td>\n",
       "      <td>0.085102</td>\n",
       "      <td>-0.255425</td>\n",
       "      <td>-0.166974</td>\n",
       "      <td>...</td>\n",
       "      <td>-0.225775</td>\n",
       "      <td>-0.638672</td>\n",
       "      <td>0.101288</td>\n",
       "      <td>-0.339846</td>\n",
       "      <td>0.167170</td>\n",
       "      <td>0.125895</td>\n",
       "      <td>-0.008983</td>\n",
       "      <td>0.014724</td>\n",
       "      <td>0</td>\n",
       "      <td>-0.342475</td>\n",
       "    </tr>\n",
       "    <tr>\n",
       "      <th>2</th>\n",
       "      <td>-1.358354</td>\n",
       "      <td>-1.340163</td>\n",
       "      <td>1.773209</td>\n",
       "      <td>0.379780</td>\n",
       "      <td>-0.503198</td>\n",
       "      <td>1.800499</td>\n",
       "      <td>0.791461</td>\n",
       "      <td>0.247676</td>\n",
       "      <td>-1.514654</td>\n",
       "      <td>0.207643</td>\n",
       "      <td>...</td>\n",
       "      <td>0.247998</td>\n",
       "      <td>0.771679</td>\n",
       "      <td>0.909412</td>\n",
       "      <td>-0.689281</td>\n",
       "      <td>-0.327642</td>\n",
       "      <td>-0.139097</td>\n",
       "      <td>-0.055353</td>\n",
       "      <td>-0.059752</td>\n",
       "      <td>0</td>\n",
       "      <td>1.160686</td>\n",
       "    </tr>\n",
       "    <tr>\n",
       "      <th>3</th>\n",
       "      <td>-0.966272</td>\n",
       "      <td>-0.185226</td>\n",
       "      <td>1.792993</td>\n",
       "      <td>-0.863291</td>\n",
       "      <td>-0.010309</td>\n",
       "      <td>1.247203</td>\n",
       "      <td>0.237609</td>\n",
       "      <td>0.377436</td>\n",
       "      <td>-1.387024</td>\n",
       "      <td>-0.054952</td>\n",
       "      <td>...</td>\n",
       "      <td>-0.108300</td>\n",
       "      <td>0.005274</td>\n",
       "      <td>-0.190321</td>\n",
       "      <td>-1.175575</td>\n",
       "      <td>0.647376</td>\n",
       "      <td>-0.221929</td>\n",
       "      <td>0.062723</td>\n",
       "      <td>0.061458</td>\n",
       "      <td>0</td>\n",
       "      <td>0.140534</td>\n",
       "    </tr>\n",
       "    <tr>\n",
       "      <th>4</th>\n",
       "      <td>-1.158233</td>\n",
       "      <td>0.877737</td>\n",
       "      <td>1.548718</td>\n",
       "      <td>0.403034</td>\n",
       "      <td>-0.407193</td>\n",
       "      <td>0.095921</td>\n",
       "      <td>0.592941</td>\n",
       "      <td>-0.270533</td>\n",
       "      <td>0.817739</td>\n",
       "      <td>0.753074</td>\n",
       "      <td>...</td>\n",
       "      <td>-0.009431</td>\n",
       "      <td>0.798278</td>\n",
       "      <td>-0.137458</td>\n",
       "      <td>0.141267</td>\n",
       "      <td>-0.206010</td>\n",
       "      <td>0.502292</td>\n",
       "      <td>0.219422</td>\n",
       "      <td>0.215153</td>\n",
       "      <td>0</td>\n",
       "      <td>-0.073403</td>\n",
       "    </tr>\n",
       "  </tbody>\n",
       "</table>\n",
       "<p>5 rows × 30 columns</p>\n",
       "</div>"
      ],
      "text/plain": [
       "         V1        V2        V3        V4        V5        V6        V7  \\\n",
       "0 -1.359807 -0.072781  2.536347  1.378155 -0.338321  0.462388  0.239599   \n",
       "1  1.191857  0.266151  0.166480  0.448154  0.060018 -0.082361 -0.078803   \n",
       "2 -1.358354 -1.340163  1.773209  0.379780 -0.503198  1.800499  0.791461   \n",
       "3 -0.966272 -0.185226  1.792993 -0.863291 -0.010309  1.247203  0.237609   \n",
       "4 -1.158233  0.877737  1.548718  0.403034 -0.407193  0.095921  0.592941   \n",
       "\n",
       "         V8        V9       V10  ...       V21       V22       V23       V24  \\\n",
       "0  0.098698  0.363787  0.090794  ... -0.018307  0.277838 -0.110474  0.066928   \n",
       "1  0.085102 -0.255425 -0.166974  ... -0.225775 -0.638672  0.101288 -0.339846   \n",
       "2  0.247676 -1.514654  0.207643  ...  0.247998  0.771679  0.909412 -0.689281   \n",
       "3  0.377436 -1.387024 -0.054952  ... -0.108300  0.005274 -0.190321 -1.175575   \n",
       "4 -0.270533  0.817739  0.753074  ... -0.009431  0.798278 -0.137458  0.141267   \n",
       "\n",
       "        V25       V26       V27       V28  Class  normAmount  \n",
       "0  0.128539 -0.189115  0.133558 -0.021053      0    0.244964  \n",
       "1  0.167170  0.125895 -0.008983  0.014724      0   -0.342475  \n",
       "2 -0.327642 -0.139097 -0.055353 -0.059752      0    1.160686  \n",
       "3  0.647376 -0.221929  0.062723  0.061458      0    0.140534  \n",
       "4 -0.206010  0.502292  0.219422  0.215153      0   -0.073403  \n",
       "\n",
       "[5 rows x 30 columns]"
      ]
     },
     "execution_count": 5,
     "metadata": {},
     "output_type": "execute_result"
    }
   ],
   "source": [
    "from sklearn.preprocessing import StandardScaler\n",
    "data['normAmount'] = StandardScaler().fit_transform(data['Amount'].values.reshape((-1,1)))\n",
    "\n",
    "# data['Amount'].reshape(-1,1) 转为列向量。-1：让系统自动计算行数。因为不知道有多少行数据\n",
    "\n",
    "data = data.drop(['Time', 'Amount'], axis=1) # 删除两列\n",
    "data.head()\n"
   ]
  },
  {
   "cell_type": "markdown",
   "metadata": {},
   "source": [
    "#### 下采样："
   ]
  },
  {
   "cell_type": "code",
   "execution_count": 6,
   "metadata": {},
   "outputs": [],
   "source": [
    "# pandas 索引函数有三个：\n",
    "# loc 在index的标签上进行索引,范围包括start和end.\n",
    "# iloc 在index的位置上进行索引,不包括end.\n",
    "# ix 先在index的标签上索引，索引不到就在index的位置上索引(如果index非全整数),不包括end.\n",
    "\n",
    "x = data.loc[:, data.columns != 'Class'] # ix: 索引函数。取出columns中不等于Class的列\n",
    "y = data.loc[:, data.columns == 'Class']\n",
    "\n",
    "number_fraud = len(data[data.Class == 1]) # 统计负样本个数\n",
    "indices_fraud = np.array(data[data.Class == 1].index) # 记录负样本的索引值\n",
    "\n",
    "indices_normal = data[data.Class == 0].index\n",
    "\n",
    "# 随机选出和负样本一样的多的正样本\n",
    "indices_random_normal = np.random.choice(indices_normal, number_fraud, replace=False)\n",
    "\n",
    "\n",
    "# 合并两个样本\n",
    "indices_under_sample = np.concatenate((indices_random_normal, indices_fraud))\n",
    "\n",
    "data_under_sample = data.iloc[indices_under_sample]\n",
    "# 取出 x 和 y\n",
    "x_under_sample = data_under_sample.loc[:,data.columns != 'Class']\n",
    "y_under_sample = data_under_sample.loc[:,data.columns == 'Class']"
   ]
  },
  {
   "cell_type": "markdown",
   "metadata": {},
   "source": [
    "### 交叉验证：\n",
    "将训练集切分为N块，使用其中M块生成模型，N-M块测试模型\n",
    "<code>\n",
    "X_train,X_test, y_train, y_test =cross_validation.train_test_split(train_data,train_target,test_size=0.3, random_state=0)\n",
    "参数解释：\n",
    "\n",
    "train_data：被划分的样本特征集\n",
    "train_target：被划分的样本标签\n",
    "test_size：如果是浮点数，在0-1之间，表示样本占比；如果是整数的话就是样本的数量\n",
    "random_state：是随机数的种子。\n",
    "\n",
    "随机数种子：其实就是该组随机数的编号，在需要重复试验的时候，保证得到一组一样的随机数。比如你每次都填1，其他参数一样的情况下你得到的随机数组是一样的。但填0或不填，每次都会不一样。\n",
    "随机数的产生取决于种子，随机数和种子之间的关系遵从以下两个规则：\n",
    "种子不同，产生不同的随机数；种子相同，即使实例不同也产生相同的随机数。\n",
    "</code>"
   ]
  },
  {
   "cell_type": "code",
   "execution_count": 9,
   "metadata": {},
   "outputs": [
    {
     "name": "stdout",
     "output_type": "stream",
     "text": [
      "Number of training whole dataSet: 199364\n",
      "Number of testing whole dataSet: 85443\n",
      "\n",
      "\n",
      "Number of training under sample dataSet: 688\n",
      "Number of testing under sample dataSet: 296\n"
     ]
    }
   ],
   "source": [
    "from sklearn.model_selection import train_test_split\n",
    "\n",
    "# 原始数据集切分\n",
    "x_train, x_test, y_train, y_test = train_test_split(x, y,test_size = 0.3)\n",
    "\n",
    "\n",
    "# 下采样数据集切分\n",
    "x_train_underSample, x_test_underSample, y_train_underSample, y_test_underSample = train_test_split(x_under_sample, y_under_sample,test_size = 0.3)\n",
    "\n",
    "print(\"Number of training whole dataSet:\", len(x_train))\n",
    "print(\"Number of testing whole dataSet:\", len(x_test))\n",
    "print(\"\\n\")\n",
    "\n",
    "print(\"Number of training under sample dataSet:\", len(x_train_underSample))\n",
    "print(\"Number of testing under sample dataSet:\", len(x_test_underSample))"
   ]
  },
  {
   "cell_type": "code",
   "execution_count": 11,
   "metadata": {},
   "outputs": [],
   "source": [
    "from sklearn.linear_model import LogisticRegression\n",
    "from sklearn.model_selection import KFold, cross_val_score\n",
    "from sklearn.metrics import confusion_matrix, recall_score, classification_report"
   ]
  },
  {
   "cell_type": "markdown",
   "metadata": {},
   "source": [
    "\n",
    "### 模型评估方法\n",
    "$$Recall =\\frac{TP}{TP+FN} $$ \n",
    "\n",
    "\n",
    "|&nbsp; |相关(Relevant),正类 |无关(NonRelevant),负类 |\n",
    "|:---  |:---  |:---  |\n",
    "| **被检索到（Retrieved）** |true positive(TP 正类判定为正类，即正确判定) |false positive(FP 负类判断为正类）|\n",
    "|**被检测到（Not Retrieved）** |false negative(FN 判断错误，判断为负类，则结果为正类)|true negative(TN,判断正确，判断为负类)|\n",
    "\n",
    "#### 交叉验证KFold\n",
    "\n",
    "<a href = \"https://www.jianshu.com/p/284581d9b189\">K-Fold 交叉验证 (Cross-Validation)</a>\n",
    "\n",
    "\n",
    "### 正则化惩罚（解决过拟合问题）\n",
    "过拟合： （高方差）在训练集上表现良好，在测试集上变现很差\n",
    "<br>\n",
    "**L2正则化：** $$J(\\theta) = J(\\theta) + \\lambda \\sum^{n}_{j=1}\\theta^2_j $$\n",
    "**L1正则化：** $$J(\\theta) = J(\\theta) + \\lambda \\sum^{n}_{j=1}|\\theta_j| $$"
   ]
  },
  {
   "cell_type": "code",
   "execution_count": 22,
   "metadata": {
    "collapsed": true
   },
   "outputs": [
    {
     "name": "stdout",
     "output_type": "stream",
     "text": [
      "------------------------------\n",
      "regularization lambda: 0.01\n",
      "------------------------------\n",
      "Iteration 1 : recall score: 91.30\n",
      "Iteration 2 : recall score: 95.59\n",
      "Iteration 3 : recall score: 87.80\n",
      "Iteration 4 : recall score: 85.00\n",
      "Iteration 5 : recall score: 93.33\n",
      "\n",
      "mean score of lambda 0.010 : 90.61\n",
      "\n",
      "------------------------------\n",
      "regularization lambda: 0.1\n",
      "------------------------------\n",
      "Iteration 1 : recall score: 91.30\n",
      "Iteration 2 : recall score: 92.65\n",
      "Iteration 3 : recall score: 86.59\n",
      "Iteration 4 : recall score: 85.00\n",
      "Iteration 5 : recall score: 92.00\n",
      "\n",
      "mean score of lambda 0.100 : 89.51\n",
      "\n",
      "------------------------------\n",
      "regularization lambda: 1\n",
      "------------------------------\n",
      "Iteration 1 : recall score: 91.30\n",
      "Iteration 2 : recall score: 91.18\n",
      "Iteration 3 : recall score: 87.80\n",
      "Iteration 4 : recall score: 85.00\n",
      "Iteration 5 : recall score: 92.00\n",
      "\n",
      "mean score of lambda 1.000 : 89.46\n",
      "\n",
      "------------------------------\n",
      "regularization lambda: 10\n",
      "------------------------------\n",
      "Iteration 1 : recall score: 86.96\n",
      "Iteration 2 : recall score: 89.71\n",
      "Iteration 3 : recall score: 87.80\n",
      "Iteration 4 : recall score: 83.33\n",
      "Iteration 5 : recall score: 92.00\n",
      "\n",
      "mean score of lambda 10.000 : 87.96\n",
      "\n",
      "------------------------------\n",
      "regularization lambda: 100\n",
      "------------------------------\n",
      "Iteration 1 : recall score: 92.75\n",
      "Iteration 2 : recall score: 95.59\n",
      "Iteration 3 : recall score: 92.68\n",
      "Iteration 4 : recall score: 93.33\n",
      "Iteration 5 : recall score: 94.67\n",
      "\n",
      "mean score of lambda 100.000 : 93.80\n",
      "\n",
      "******************************\n",
      "The Best lambda is 100\n",
      "******************************\n"
     ]
    },
    {
     "name": "stderr",
     "output_type": "stream",
     "text": [
      "/Users/zheng/anaconda3/lib/python3.7/site-packages/sklearn/svm/base.py:931: ConvergenceWarning: Liblinear failed to converge, increase the number of iterations.\n",
      "  \"the number of iterations.\", ConvergenceWarning)\n"
     ]
    }
   ],
   "source": [
    "def get_Kfold_scores(x_train, y_train, lambda_range = [0.01, 0.1, 1, 10, 100]):\n",
    "# c_param_range：  正则化惩罚项中的lambda取值\n",
    "\n",
    "    fold = KFold(5, shuffle=False)\n",
    "#     KFold:\n",
    "#     参数(n, n_folds=3, shuffle=False, random_state=None)\n",
    "#     n为总数\n",
    "#     n_folds为分为多少个交叉验证集\n",
    "#     shuffle为是否随机\n",
    "#     random_state设置随机因子\n",
    "     \n",
    "    scores_lambda = []\n",
    "    for var_lambda in lambda_range:# 选取更好的lambda\n",
    "        c = 1.0 / var_lambda\n",
    "        \n",
    "        print('-'* 30)\n",
    "        print(\"regularization lambda: {}\".format(var_lambda))\n",
    "        print('-'* 30)\n",
    "        \n",
    "        scores_cross_vali = []\n",
    "        for iteration, indices in enumerate(fold.split(x_train), start = 1): #同时返回可迭代对象的索引与值\n",
    "            # indices[0]:训练集\n",
    "            # indices[1]:测试集\n",
    "\n",
    "            # 选择模型为逻辑回归，实例化模型\n",
    "            lr = LogisticRegression(C = c, penalty = 'l1', solver='liblinear')\n",
    "            #  C: 正则化惩罚中lambda的倒数\n",
    "            #  penalty: 选择L1正则化还是L2正则化\n",
    "\n",
    "            # 拟合数据，训练模型\n",
    "            lr.fit(x_train.iloc[indices[0]], y_train.iloc[indices[0]].values.ravel()) \n",
    "            # fit(X, y, sample_weight=None)\n",
    "\n",
    "            res_predict = lr.predict(x_train.iloc[indices[1]])\n",
    "\n",
    "            score = recall_score(y_train.iloc[indices[1]], res_predict)\n",
    "            scores_cross_vali.append(score)\n",
    "            print(\"Iteration %d : recall score: %.2f\" % (iteration, score * 100.0 ))\n",
    "        \n",
    "        mean_scores = np.mean(scores_cross_vali)\n",
    "        scores_lambda.append( mean_scores)\n",
    "        print(\"\\nmean score of lambda %.3f : %.2f\\n\" % (var_lambda, mean_scores * 100.0 ))\n",
    "            # float recall_score(y_true, y_pred, labels=None, pos_label=1, average=’binary’, sample_weight=None)\n",
    "    best_lambda = lambda_range[scores_lambda.index(max(scores_lambda))]\n",
    "    print('*' * 30)\n",
    "    print(\"The Best lambda is {}\".format(best_lambda))\n",
    "    print('*' * 30)\n",
    "    return best_lambda\n",
    "\n",
    "best_lambda = get_Kfold_scores(x_train_underSample, y_train_underSample)"
   ]
  },
  {
   "cell_type": "markdown",
   "metadata": {},
   "source": [
    "### 混淆矩阵"
   ]
  },
  {
   "cell_type": "code",
   "execution_count": 25,
   "metadata": {},
   "outputs": [],
   "source": [
    "def plot_confusion_matrix(matrix, classes, title=\"Confusion Matrix\", cmap=plt.cm.Blues):\n",
    "    plt.imshow(matrix, interpolation='nearest', cmap=cmap) #interpolation: 把某块显示成一种颜色\n",
    "    plt.title(title)\n",
    "    plt.colorbar()\n",
    "    tick_marks = np.arange(len(classes))\n",
    "    thresh = matrix.max() / 2.\n",
    "    \n",
    "    #plt.xticks : 第一个数组参数是标示的位置，第二个数组是标示的文字\n",
    "    plt.xticks(tick_marks, classes) \n",
    "    plt.yticks(tick_marks, classes)\n",
    "    for y in range(len(matrix)):\n",
    "        for x in range(len(matrix[0])):\n",
    "            plt.text(x, y, matrix[y,x]\n",
    "                    ,horizontalalignment=\"center\" \n",
    "                    ,color=\"white\" if matrix[y,x] > thresh else \"black\")\n",
    "    plt.tight_layout()\n",
    "    plt.ylabel('True label')\n",
    "    plt.xlabel('Predicted label')"
   ]
  },
  {
   "cell_type": "markdown",
   "metadata": {},
   "source": [
    "### 逻辑回归阈值对结果的影响"
   ]
  },
  {
   "cell_type": "code",
   "execution_count": 23,
   "metadata": {
    "scrolled": false
   },
   "outputs": [
    {
     "data": {
      "image/png": "[encoded data removed]",
      "text/plain": [
       "<Figure size 936x936 with 18 Axes>"
      ]
     },
     "metadata": {
      "needs_background": "light"
     },
     "output_type": "display_data"
    }
   ],
   "source": [
    "threholds = [0.1 * i for i in range(1, 10)]\n",
    "\n",
    "lr = LogisticRegression(C= 1.0 / best_lambda, penalty='l1', solver='liblinear')\n",
    "lr.fit(x_train_underSample, y_train_underSample.values.ravel())\n",
    "y_predict_underSample = lr.predict(x_test_underSample)\n",
    "conf_matrix = confusion_matrix(y_test_underSample.values.ravel(),y_predict_underSample)\n",
    "y_predict_underSample_proba = lr.predict_proba(x_test_underSample) # 返回预测结果的可能性\n",
    "\n",
    "j = 1\n",
    "plt.figure(figsize=(13,13))\n",
    "for threhold in threholds:\n",
    "    plt.subplot(3,3,j)\n",
    "    j += 1\n",
    "    y_predict = y_predict_underSample_proba[:, 1] > threhold\n",
    "    matrix = confusion_matrix(y_test_underSample, y_predict)\n",
    "    plot_confusion_matrix(matrix, [0, 1],title=\"threhold >= %.1f, recall=%.2f\" % (threhold, recall_score(y_test_underSample.values.ravel(), y_predict)))\n",
    "\n"
   ]
  },
  {
   "cell_type": "markdown",
   "metadata": {},
   "source": [
    "### 过采样\n",
    "*少数类样本生成*\n",
    "\n",
    "#### SMOTE 算法\n",
    "使用k-近邻算法生成与目标特征相近的随机特征\n",
    "\n",
    "imblearn: 不平衡数据处理包"
   ]
  },
  {
   "cell_type": "code",
   "execution_count": 33,
   "metadata": {},
   "outputs": [],
   "source": [
    "from imblearn.over_sampling import SMOTE\n",
    "smoter = SMOTE()\n",
    "x_train_overSample, y_train_overSample = smoter.fit_sample(x_train.values, y_train.values.ravel())"
   ]
  },
  {
   "cell_type": "code",
   "execution_count": 59,
   "metadata": {},
   "outputs": [],
   "source": [
    "lr_raw = LogisticRegression(C = 100, penalty = 'l1', solver='liblinear')\n",
    "lr_overSample = LogisticRegression(C = 100, penalty = 'l1', solver='liblinear')\n",
    "\n",
    "lr_raw.fit(x_train, y_train.values.ravel())\n",
    "lr_overSample.fit(x_train_overSample, y_train_overSample)\n",
    "\n",
    "y_raw_predict = lr_raw.predict(x_test)\n",
    "y_overSample_predict = lr_overSample.predict(x_test)\n",
    "\n",
    "cmatrix_raw = confusion_matrix(y_test, y_raw_predict)\n",
    "cmatrix_overSample = confusion_matrix(y_test, y_overSample_predict)"
   ]
  },
  {
   "cell_type": "code",
   "execution_count": 63,
   "metadata": {},
   "outputs": [
    {
     "data": {
      "image/png": "[encoded data removed]",
      "text/plain": [
       "<Figure size 720x720 with 4 Axes>"
      ]
     },
     "metadata": {
      "needs_background": "light"
     },
     "output_type": "display_data"
    }
   ],
   "source": [
    "plt.figure(figsize=(10,10))\n",
    "plt.subplot(1,2,1)\n",
    "plot_confusion_matrix(cmatrix_raw, classes=[0,1], title=\"raw\")\n",
    "plt.subplot(1,2,2)\n",
    "plot_confusion_matrix(cmatrix_overSample, classes=[0,1], title=\"overSample\")"
   ]
  },
  {
   "cell_type": "code",
   "execution_count": 69,
   "metadata": {},
   "outputs": [
    {
     "name": "stdout",
     "output_type": "stream",
     "text": [
      "------------------------------\n",
      "regularization lambda: 0.01\n",
      "------------------------------\n",
      "Iteration 1 : recall score: 94.85\n",
      "Iteration 2 : recall score: 96.15\n",
      "Iteration 3 : recall score: 92.72\n",
      "Iteration 4 : recall score: 91.02\n",
      "Iteration 5 : recall score: 91.04\n",
      "\n",
      "mean score of lambda 0.010 : 93.16\n",
      "\n",
      "------------------------------\n",
      "regularization lambda: 0.1\n",
      "------------------------------\n",
      "Iteration 1 : recall score: 94.85\n",
      "Iteration 2 : recall score: 96.15\n",
      "Iteration 3 : recall score: 92.73\n",
      "Iteration 4 : recall score: 91.05\n",
      "Iteration 5 : recall score: 91.04\n",
      "\n",
      "mean score of lambda 0.100 : 93.16\n",
      "\n",
      "------------------------------\n",
      "regularization lambda: 1\n",
      "------------------------------\n",
      "Iteration 1 : recall score: 94.85\n",
      "Iteration 2 : recall score: 96.15\n",
      "Iteration 3 : recall score: 92.72\n",
      "Iteration 4 : recall score: 91.04\n",
      "Iteration 5 : recall score: 91.04\n",
      "\n",
      "mean score of lambda 1.000 : 93.16\n",
      "\n",
      "------------------------------\n",
      "regularization lambda: 10\n",
      "------------------------------\n",
      "Iteration 1 : recall score: 94.85\n",
      "Iteration 2 : recall score: 96.15\n",
      "Iteration 3 : recall score: 92.65\n",
      "Iteration 4 : recall score: 90.99\n",
      "Iteration 5 : recall score: 91.01\n",
      "\n",
      "mean score of lambda 10.000 : 93.13\n",
      "\n",
      "------------------------------\n",
      "regularization lambda: 100\n",
      "------------------------------\n",
      "Iteration 1 : recall score: 94.85\n",
      "Iteration 2 : recall score: 96.15\n",
      "Iteration 3 : recall score: 92.25\n",
      "Iteration 4 : recall score: 90.74\n",
      "Iteration 5 : recall score: 90.77\n",
      "\n",
      "mean score of lambda 100.000 : 92.95\n",
      "\n",
      "******************************\n",
      "The Best lambda is 0.1\n",
      "******************************\n"
     ]
    },
    {
     "data": {
      "text/plain": [
       "0.1"
      ]
     },
     "execution_count": 69,
     "metadata": {},
     "output_type": "execute_result"
    }
   ],
   "source": [
    "x_train_overSample = pd.DataFrame(x_train_overSample)\n",
    "y_train_overSample = pd.DataFrame(y_train_overSample)\n",
    "get_Kfold_scores(x_train_overSample, y_train_overSample)"
   ]
  },
  {
   "cell_type": "code",
   "execution_count": null,
   "metadata": {},
   "outputs": [],
   "source": []
  },
  {
   "cell_type": "code",
   "execution_count": null,
   "metadata": {},
   "outputs": [],
   "source": []
  },
  {
   "cell_type": "code",
   "execution_count": 52,
   "metadata": {},
   "outputs": [
    {
     "data": {
      "text/plain": [
       "199028"
      ]
     },
     "execution_count": 52,
     "metadata": {},
     "output_type": "execute_result"
    }
   ],
   "source": [
    "len(y_train_overSample[y_train_overSample[:] == 0])\n"
   ]
  },
  {
   "cell_type": "code",
   "execution_count": 43,
   "metadata": {},
   "outputs": [
    {
     "data": {
      "text/plain": [
       "numpy.ndarray"
      ]
     },
     "execution_count": 43,
     "metadata": {},
     "output_type": "execute_result"
    }
   ],
   "source": [
    "type(y_train_overSample)"
   ]
  },
  {
   "cell_type": "code",
   "execution_count": null,
   "metadata": {},
   "outputs": [],
   "source": []
  }
 ],
 "metadata": {
  "kernelspec": {
   "display_name": "Python 3",
   "language": "python",
   "name": "python3"
  },
  "language_info": {
   "codemirror_mode": {
    "name": "ipython",
    "version": 3
   },
   "file_extension": ".py",
   "mimetype": "text/x-python",
   "name": "python",
   "nbconvert_exporter": "python",
   "pygments_lexer": "ipython3",
   "version": "3.7.3"
  }
 },
 "nbformat": 4,
 "nbformat_minor": 2
}
