{
 "cells": [
  {
   "cell_type": "code",
   "execution_count": 2,
   "metadata": {},
   "outputs": [
    {
     "name": "stdout",
     "output_type": "stream",
     "text": [
      "11\n"
     ]
    }
   ],
   "source": [
    "from sklearn import datasets\n",
    "dataSets = datasets.make_regression(n_samples=30000, n_features= 10 ,noise=100)\n",
    "x = list()\n",
    "for i in dataSets[0]:\n",
    "    tmp = list(i)\n",
    "    tmp.insert(0,1)\n",
    "    x.append(tmp) \n",
    "\n",
    "y = dataSets[1]\n",
    "print(len(x[0]))\n",
    "line = list()\n",
    "cost = list()"
   ]
  },
  {
   "cell_type": "code",
   "execution_count": 3,
   "metadata": {
    "scrolled": true
   },
   "outputs": [
    {
     "name": "stdout",
     "output_type": "stream",
     "text": [
      "[0.00632, 18.0, 2.31, 0.0, 0.538, 6.575, 65.2, 4.09, 1.0, 296.0, 15.3, 396.9]\n"
     ]
    }
   ],
   "source": [
    "from sklearn import datasets\n",
    "dataSets = datasets.load_boston()\n",
    "#print(dataSets.keys())\n",
    "x = [i[:12] for i in dataSets['data'].tolist()]\n",
    "y = [i[-1] for i in dataSets['data'].tolist()]\n",
    "x.pop()\n",
    "y.pop()\n",
    "print((x[0]))"
   ]
  },
  {
   "cell_type": "code",
   "execution_count": 5,
   "metadata": {},
   "outputs": [],
   "source": [
    "# 求假设函数的预测值\n",
    "def h(theta, x):\n",
    "    ans = 0.0\n",
    "    for i in range(len(x)):\n",
    "        ans += (theta[i] * x[i])\n",
    "    return ans\n",
    "# 求代价函数的值\n",
    "def get_cost(theta, x, y):\n",
    "    cost = 0\n",
    "    m = len(y)\n",
    "    for i in range(len(x)):\n",
    "        cost += pow((h(theta, x[i]) - y[i] ), 2) /(2.0 * m)\n",
    "    return cost\n",
    "\n",
    "def timer(func):\n",
    "    import time\n",
    "    def wrapper(*args):\n",
    "        start = time.time()\n",
    "        func(*args)\n",
    "        end = time.time()\n",
    "        print(\"总用时为：{}s\".format(round(end - start, 2)))\n",
    "    return wrapper\n",
    "def feature_scaling(x):\n",
    "    from numpy import matrix\n",
    "    #寻找每个特征值的最大值以使用特征缩放\n",
    "    x_mat = matrix(x).T\n",
    "    max_x = (x_mat.max(axis=0)).tolist()[0]\n",
    "    print(len(max_x))\n",
    "    for i in range(len(x)):\n",
    "        for j in range(len(x[0])):\n",
    "            x[i][j] = float(x[i][j]) / max_x[i]\n",
    "    return x\n",
    "            \n",
    "        \n",
    "    \n",
    "    "
   ]
  },
  {
   "cell_type": "code",
   "execution_count": 6,
   "metadata": {
    "scrolled": true
   },
   "outputs": [
    {
     "name": "stdout",
     "output_type": "stream",
     "text": [
      "505\n",
      "theta: [2.930188429120539, -9.828802489555752, 3.396454955124317, -0.008732363345107732, 0.05850800347537892, -0.6131257083888406, 17.695379110384177, -0.7011630407341011, 1.7047403374904306, 17.15236395158305, 1.2364768418188008, -5.484814483392535] 迭代次数： 1500 最终代价值： 15.980350567288886\n",
      "总用时为：17.57s\n"
     ]
    }
   ],
   "source": [
    "@timer\n",
    "def g_descent(x, y, alpha = 0.3):\n",
    "    global cost\n",
    "    #设置参数theta初始值\n",
    "    theta = [0 for i in range(len(x[0]))]\n",
    "    iterator = 1\n",
    "    cost_value = 0\n",
    "    last_cost = 0\n",
    "    diff = 0.2\n",
    "    cost = [list(),list()]\n",
    "    m = len(y)\n",
    "    #控制迭代次数，当下降前后代价值变化小于10e-18时认为梯度下降以收敛\n",
    "    while iterator < 1500 and diff > pow(10, -18):\n",
    "        iterator += 1\n",
    "        cost_value = 0\n",
    "        delta_theta = [0 for i in range(len(x[0]))]\n",
    "        for i in range(m):\n",
    "            cost_value += (pow((h(theta, x[i]) - y[i]), 2) / (2.0 * m))\n",
    "            #计算每个特征量对应的参数变化值\n",
    "            for j in range(len(x[i])):\n",
    "                delta_theta[j] += (h(theta, x[i]) - y[i]) * x[i][j]\n",
    "        diff = abs(last_cost - cost_value)\n",
    "        last_cost = cost_value\n",
    "        cost[0].append(iterator / 1000)\n",
    "        cost[1].append(diff / 100)\n",
    "        \n",
    "        # 梯度更新参数\n",
    "        for i in range(len(theta)):\n",
    "            theta[i] -= (delta_theta[i] * alpha *(1.0 / m))\n",
    "    print(\"theta:\" ,theta,\"迭代次数：\" ,iterator,\"最终代价值：\", cost_value)\n",
    "    global line\n",
    "    line_x = [i[1] for i in x]\n",
    "    line_y = [(theta[0] + theta[1] * x[i][1]) for i in range(m)]\n",
    "    line = [line_x, line_y]\n",
    "    return theta\n",
    "\n",
    "theta = g_descent(feature_scaling(x), y, 0.1)\n",
    "\n"
   ]
  },
  {
   "cell_type": "code",
   "execution_count": 7,
   "metadata": {},
   "outputs": [
    {
     "name": "stdout",
     "output_type": "stream",
     "text": [
      "theta: [[ 1.00320462e+02]\n",
      " [ 1.27574268e+01]\n",
      " [ 5.06703243e+01]\n",
      " [-2.48149872e+02]\n",
      " [ 6.31201387e+03]\n",
      " [-1.33479521e+03]\n",
      " [ 3.40425132e+01]\n",
      " [ 1.59556258e+02]\n",
      " [ 1.29182312e+02]\n",
      " [ 3.78738489e+00]\n",
      " [ 2.41829688e+02]\n",
      " [-1.27457803e-01]] 最终代价值： [[10.16418763]]\n",
      "总用时为：0.64s\n"
     ]
    }
   ],
   "source": [
    "@timer\n",
    "def normal_equation(x, y):\n",
    "    import numpy as np\n",
    "    x_matrix = np.matrix(x)\n",
    "\n",
    "    y_mat = np.matrix(y)\n",
    "    \n",
    "    # 正规方程求解公式\n",
    "    theta = ((x_matrix.T * x_matrix).I) * x_matrix.T * y_mat.T \n",
    "    print(\"theta:\", theta, \"最终代价值：\", get_cost(theta, x, y))\n",
    "    \n",
    "normal_equation(x, y)"
   ]
  },
  {
   "cell_type": "code",
   "execution_count": 9,
   "metadata": {
    "scrolled": true
   },
   "outputs": [
    {
     "data": {
      "image/png": "[encoded data removed]",
      "text/plain": [
       "<Figure size 840x560 with 1 Axes>"
      ]
     },
     "metadata": {
      "needs_background": "light"
     },
     "output_type": "display_data"
    }
   ],
   "source": [
    "import matplotlib.pyplot as plt\n",
    "\n",
    "fig = plt.figure(1, dpi=140)\n",
    "\n",
    "# # 数据散点图\n",
    "# plt.subplot(211)\n",
    "# plt.title(\"linear regression\")\n",
    "# #plt.scatter([i[1] for i in x], y)\n",
    "\n",
    "# # 拟合曲线\n",
    "# #plt.plot(line[0], line[1], color='red')\n",
    "# #plt.tight_layout()\n",
    "\n",
    "# # 代价函数变化图\n",
    "\n",
    "# plt.subplot(212)\n",
    "plt.plot(cost[0], cost[1])\n",
    "plt.title(\"value of cost\")\n",
    "plt.tight_layout()\n",
    "\n",
    "plt.show()\n"
   ]
  },
  {
   "cell_type": "code",
   "execution_count": 32,
   "metadata": {},
   "outputs": [
    {
     "name": "stdout",
     "output_type": "stream",
     "text": [
      "[2064.28215608]\n",
      "[523.95402751]\n",
      "[161.80523006]\n",
      "[76.61437951]\n",
      "[56.56294556]\n",
      "[51.8405804]\n",
      "[50.72769357]\n",
      "[50.46524998]\n",
      "[50.40331568]\n",
      "[50.38868872]\n",
      "[50.38523154]\n",
      "[50.38441373]\n",
      "[50.3842201]\n",
      "[50.38417421]\n"
     ]
    },
    {
     "ename": "IndexError",
     "evalue": "list index out of range",
     "output_type": "error",
     "traceback": [
      "\u001b[1;31m---------------------------------------------------------------------------\u001b[0m",
      "\u001b[1;31mIndexError\u001b[0m                                Traceback (most recent call last)",
      "\u001b[1;32m<ipython-input-32-e58ba39b426e>\u001b[0m in \u001b[0;36m<module>\u001b[1;34m()\u001b[0m\n\u001b[0;32m      1\u001b[0m \u001b[1;32mfor\u001b[0m \u001b[0mi\u001b[0m \u001b[1;32min\u001b[0m \u001b[0mrange\u001b[0m\u001b[1;33m(\u001b[0m\u001b[1;36m100\u001b[0m\u001b[1;33m)\u001b[0m\u001b[1;33m:\u001b[0m\u001b[1;33m\u001b[0m\u001b[0m\n\u001b[1;32m----> 2\u001b[1;33m     \u001b[0mprint\u001b[0m\u001b[1;33m(\u001b[0m\u001b[0mcost\u001b[0m\u001b[1;33m[\u001b[0m\u001b[1;36m1\u001b[0m\u001b[1;33m]\u001b[0m\u001b[1;33m[\u001b[0m\u001b[0mi\u001b[0m\u001b[1;33m]\u001b[0m\u001b[1;33m)\u001b[0m\u001b[1;33m\u001b[0m\u001b[0m\n\u001b[0m",
      "\u001b[1;31mIndexError\u001b[0m: list index out of range"
     ]
    }
   ],
   "source": [
    "for i in range(100):\n",
    "    print(cost[1][i])"
   ]
  },
  {
   "cell_type": "code",
   "execution_count": null,
   "metadata": {},
   "outputs": [],
   "source": []
  }
 ],
 "metadata": {
  "kernelspec": {
   "display_name": "Python 3",
   "language": "python",
   "name": "python3"
  },
  "language_info": {
   "codemirror_mode": {
    "name": "ipython",
    "version": 3
   },
   "file_extension": ".py",
   "mimetype": "text/x-python",
   "name": "python",
   "nbconvert_exporter": "python",
   "pygments_lexer": "ipython3",
   "version": "3.7.0"
  }
 },
 "nbformat": 4,
 "nbformat_minor": 2
}
