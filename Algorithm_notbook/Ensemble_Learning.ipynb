{
 "cells": [
  {
   "cell_type": "markdown",
   "metadata": {},
   "source": [
    "## 目的\n",
    "使机器学习效果更好\n",
    "## Bagging(Bootstrap Aggregation)\n",
    "**并行训练多个分类器取平均** \n",
    "$$f(x)=\\frac{1}{n}\\sum_{i=1}^{n}f_i(x)$$\n",
    "**典型代表：随机森林**\n",
    "## Boosting \n",
    "**从弱学习器开始加强，通过加权来进行训练**<br>\n",
    "**典型代表：AdaBoost、Xgboost**\n",
    "### AdaBoost\n",
    "根据前一次的分类结果调整数据权重\n",
    "## Stacking\n",
    "**聚合多个分类器或回归模型**\n",
    "**分阶段，第一阶段得出结果，...**\n",
    "\n"
   ]
  },
  {
   "cell_type": "code",
   "execution_count": null,
   "metadata": {},
   "outputs": [],
   "source": []
  }
 ],
 "metadata": {
  "kernelspec": {
   "display_name": "Python 3",
   "language": "python",
   "name": "python3"
  },
  "language_info": {
   "codemirror_mode": {
    "name": "ipython",
    "version": 3
   },
   "file_extension": ".py",
   "mimetype": "text/x-python",
   "name": "python",
   "nbconvert_exporter": "python",
   "pygments_lexer": "ipython3",
   "version": "3.7.3"
  }
 },
 "nbformat": 4,
 "nbformat_minor": 2
}
