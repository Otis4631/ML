{
 "cells": [
  {
   "cell_type": "markdown",
   "metadata": {},
   "source": [
    "## Logistic Regression\n"
   ]
  },
  {
   "cell_type": "code",
   "execution_count": 3,
   "metadata": {},
   "outputs": [],
   "source": [
    "import numpy as np\n",
    "import pandas as pd\n",
    "import matplotlib.pyplot as plt"
   ]
  },
  {
   "cell_type": "code",
   "execution_count": 311,
   "metadata": {
    "scrolled": true
   },
   "outputs": [],
   "source": [
    "## 导入数据\n",
    "from sklearn.datasets import load_iris\n",
    "rawData = load_iris()\n",
    "#a = np.delete(rawData['data'][:100],[2, 3], axis=1)\n",
    "# 使用np.c_[]和np.r_[]分别添加行和列\n",
    "raw_data = np.c_[rawData['data'][:100] ,rawData['target'][:100]]\n",
    "raw_data = np.insert(raw_data, 0 ,[1 for i in range(len(raw_data))], 1)\n",
    "shuffleData(raw_data)\n",
    "data = raw_data[:5]\n",
    "check_data = raw_data[5:]\n",
    "\n"
   ]
  },
  {
   "cell_type": "code",
   "execution_count": 268,
   "metadata": {
    "scrolled": true
   },
   "outputs": [
    {
     "data": {
      "text/plain": [
       "<matplotlib.legend.Legend at 0x216e2553748>"
      ]
     },
     "execution_count": 268,
     "metadata": {},
     "output_type": "execute_result"
    },
    {
     "data": {
      "image/png": "[encoded data removed]",
      "text/plain": [
       "<Figure size 720x360 with 1 Axes>"
      ]
     },
     "metadata": {
      "needs_background": "light"
     },
     "output_type": "display_data"
    }
   ],
   "source": [
    "fig, ax = plt.subplots(figsize=(10,5))\n",
    "positive=dict()\n",
    "negative = dict()\n",
    "positive['feat1'] = [i[1] for i in data if i[-1] == 1]\n",
    "positive['feat2'] = [i[2] for i in data if i[-1] == 1]\n",
    "\n",
    "negative['feat1'] = [i[1] for i in data if i[-1] == 0]\n",
    "negative['feat2'] = [i[2] for i in data if i[-1] == 0]\n",
    "\n",
    "ax.scatter(positive['feat1'],positive['feat2'], s=30, c='b', marker='o', label=\"Admitted\")\n",
    "ax.scatter(negative['feat1'], negative['feat2'], s=30, c='r', marker='x', label=\"Not Admitted\")\n",
    "ax.legend()"
   ]
  },
  {
   "cell_type": "markdown",
   "metadata": {},
   "source": [
    "目标：建立分类器（求解三个参数$\\theta_0,\\theta_1,\\theta_2$）<br>设定阈值，根据阈值判定结果\n",
    "### 要完成的模块\n",
    "* sigmoid 函数： 映射到概率的函数\n",
    "* hypothesis: 返回预测结果值\n",
    "* cost: 代价函数\n",
    "* gradient: 计算每个参数的梯度\n",
    "* descent: 更新参数\n"
   ]
  },
  {
   "cell_type": "markdown",
   "metadata": {},
   "source": [
    "### sigmoid 函数\n",
    "$$g(z)=\\frac{1}{1+e^{-z}}$$"
   ]
  },
  {
   "cell_type": "code",
   "execution_count": 6,
   "metadata": {},
   "outputs": [],
   "source": [
    "def sigmoid(z):\n",
    "    return 1 / (1 + np.exp(-z))\n"
   ]
  },
  {
   "cell_type": "markdown",
   "metadata": {},
   "source": [
    "### Hypothesis:\n",
    "$$h_\\theta(x)=\\frac{1}{1+e^{-\\theta^Tx}}$$"
   ]
  },
  {
   "cell_type": "code",
   "execution_count": 99,
   "metadata": {},
   "outputs": [],
   "source": [
    "def hypothesis(theta, x):\n",
    "    ans = sigmoid(np.dot(x, theta.T))\n",
    "   # print(\"len of ans of hypothesis\", ans.shape)\n",
    "    return ans"
   ]
  },
  {
   "cell_type": "markdown",
   "metadata": {},
   "source": [
    "### 代价函数\n",
    "---\n",
    "代价函数：\n",
    "$$Cost(h_\\theta(x),y)= y^{(i)}\\log h_\\theta(x^{(i)})+(1-y^{(i)})\\log(1-h_\\theta(x^{(i)}))$$\n",
    "求样本平均代价：\n",
    "$$J(\\theta) = -\\frac{1}{m}\\sum^{n}_{i=1}Cost(h_\\theta(x^{(i)}),y^{(i)})$$"
   ]
  },
  {
   "cell_type": "code",
   "execution_count": 10,
   "metadata": {},
   "outputs": [],
   "source": [
    "def cost(X, y, theta):\n",
    "    cost = np.multiply(y, np.log(hypothesis(theta, X))) + np.multiply((1 - y),np.log(1 - hypothesis(theta, X)))\n",
    "    return - np.sum(cost) / len(y)"
   ]
  },
  {
   "cell_type": "code",
   "execution_count": 63,
   "metadata": {},
   "outputs": [
    {
     "data": {
      "text/plain": [
       "0.6931471805599453"
      ]
     },
     "execution_count": 63,
     "metadata": {},
     "output_type": "execute_result"
    }
   ],
   "source": [
    "cost(x,y,theta)"
   ]
  },
  {
   "cell_type": "markdown",
   "metadata": {},
   "source": [
    "### 计算梯度\n",
    "---\n",
    "$$\\frac{\\partial J}{\\partial \\theta_j} = -\\frac{1}{m}\\sum^{m}_{i=1}(y_i - h_\\theta(x_i))x_{ij}$$"
   ]
  },
  {
   "cell_type": "code",
   "execution_count": 202,
   "metadata": {},
   "outputs": [],
   "source": [
    "def gradient(x, y, theta):\n",
    "    #print(\"len of y\" , y.shape)\n",
    "    grad = np.zeros(theta.shape) \n",
    "    delta = (hypothesis(theta, x) - y).ravel() #ravel() 将多维数组转为一维数组\n",
    "    \n",
    "    #print(\"len of delta of func_gradient:\",(delta.shape))\n",
    "    for i in range(len(theta.ravel())):\n",
    "       # print(i, len(x) , x[:, i])\n",
    "        term = np.multiply(delta, x[:, i]) #np.multiply():数组和矩阵对应位置相乘，输出与相乘数组/矩阵的大小一致\n",
    "        grad[0, i] = np.sum(term) / len(x)\n",
    "    return grad"
   ]
  },
  {
   "cell_type": "markdown",
   "metadata": {},
   "source": [
    "### Gradient Descent\n",
    "---\n",
    "**共有三中不同的下降方法**\n",
    "* 批量梯度下降： 容易得到最优解，但每次考虑所有样本，速度慢。\n",
    "* 随机梯度下降： 每次找一个样本，迭代速度快，但不一定每次都朝着收敛方向\n",
    "* 小批量梯度下降：每次更新选择的一小部分数据。 "
   ]
  },
  {
   "cell_type": "code",
   "execution_count": 21,
   "metadata": {},
   "outputs": [],
   "source": [
    "STOP_ITER = 0 # 根据迭代次数停止\n",
    "STOP_COST = 1 # 根据代价变化停止\n",
    "STOP_GRAD = 2 # 根据梯度变换停止\n",
    "\n",
    "def stopCondition(type, value, threshold): # threshold 阈值\n",
    "    if type == STOP_ITER: return value > threshold\n",
    "    elif type == STOP_COST: return abs(value[-1] - value[-2]) < threshold\n",
    "    elif type == STOP_GRAD: return np.linalg.norm(value) < threshold #np.linalg.norm 求向量范数\n",
    "    "
   ]
  },
  {
   "cell_type": "code",
   "execution_count": 127,
   "metadata": {},
   "outputs": [],
   "source": [
    "# 时间测量函数\n",
    "def timer(func):\n",
    "    import time\n",
    "    def wrapper(*args):\n",
    "        start = time.time()\n",
    "        a = func(*args)\n",
    "        end = time.time()\n",
    "        print(\"总用时为：{}s\".format(round(end - start, 2)))\n",
    "        return a\n",
    "    return wrapper\n",
    "\n",
    "def shuffleData(data):\n",
    "    # 洗牌数据\n",
    "    np.random.shuffle(data)\n",
    "    cols = data.shape[1]\n",
    "    x = data[:, 0: cols - 1]\n",
    "    y = data[:, cols -1:]\n",
    "    return x,y"
   ]
  },
  {
   "cell_type": "code",
   "execution_count": 156,
   "metadata": {},
   "outputs": [],
   "source": [
    "@timer\n",
    "def descent(data, theta, sampleSize, stopType, threshold, alpha):\n",
    "    # sampleSize: 以样本大小判断梯度下降方法\n",
    "    # stopType: 迭代停止条件类型\n",
    "    # threshold： 停止条件阈值\n",
    "    # alpha：学习率\n",
    "    iterator = 0 # 迭代次数\n",
    "    k = 0 # 样本大小\n",
    "    x, y = shuffleData(data)\n",
    "    grad = np.zeros(theta.shape) # 初始梯度\n",
    "    costs = [cost(x, y, theta)] # 每次迭代的代价值\n",
    "    \n",
    "    \n",
    "    while True:\n",
    "        if k + sampleSize > len(x):\n",
    "            k = 0\n",
    "            x, y = shuffleData(data)\n",
    "        grad = gradient(x[k: k + sampleSize], y[k: k + sampleSize], theta)\n",
    "        k += sampleSize\n",
    "        theta = theta - alpha * grad #更新参数\n",
    "        costs.append(cost(x, y, theta)) # 重新计算代价\n",
    "        iterator += 1\n",
    "        #print(\"current iterator:\",iterator)\n",
    "        # 停止条件\n",
    "        if stopType == STOP_ITER:  value = iterator\n",
    "        elif stopType == STOP_COST:  value = costs\n",
    "        elif stopType == STOP_GRAD:  value = grad\n",
    "        if stopCondition(stopType, value, threshold):  break\n",
    "            \n",
    "    return theta, costs, iterator\n",
    "        \n",
    "    \n",
    "    "
   ]
  },
  {
   "cell_type": "code",
   "execution_count": 210,
   "metadata": {},
   "outputs": [],
   "source": [
    "def run(data, theta, sampleSize, stopType, threshold, alpha):\n",
    "    \n",
    "    theta, costs, iterator = descent(data, theta, sampleSize, stopType, threshold, alpha)\n",
    "    print(\"theta: {}\\ncost: {}  iteration: {}\".format(theta, round(costs[-1], 4), iterator))\n",
    "    name = \"learning rate: {} - \".format(alpha)\n",
    "    if sampleSize == len(x):  descType = \"Gradient\"\n",
    "    elif sampleSize == 1:  descType = \"Stochastic\"\n",
    "    else:  descType = \"Mini-batch({}) - \".format(sampleSize)\n",
    "    name += descType + \"- Stop Condition: \"\n",
    "    if stopType == STOP_ITER:  strStop = \"{} iterations\".format(threshold)\n",
    "    elif stopType == STOP_COST: strStop = \"cost change < {}\".format(threshold)\n",
    "    else:  strStop = \"gradient norm < {}\".format(threshold)\n",
    "    name += strStop\n",
    "    \n",
    "    fig, ax = plt.subplots(figsize=(12, 4))\n",
    "    ax.plot(np.arange(len(costs)), costs, 'r')\n",
    "    ax.set_xlabel(\"Iterations\")\n",
    "    ax.set_ylabel(\"Cost\")\n",
    "    ax.set_title(name)\n",
    "    return theta"
   ]
  },
  {
   "cell_type": "markdown",
   "metadata": {},
   "source": [
    "### 对比不同的梯度下降方法\n",
    "---\n",
    "#### Stochastic Descent"
   ]
  },
  {
   "cell_type": "code",
   "execution_count": 322,
   "metadata": {},
   "outputs": [
    {
     "name": "stdout",
     "output_type": "stream",
     "text": [
      "总用时为：0.0s\n",
      "theta: [[-0.02083635 -0.05267293 -0.1072699   0.09949953  0.0424373 ]]\n",
      "cost: 0.59  iteration: 21\n"
     ]
    },
    {
     "data": {
      "image/png": "[encoded data removed]",
      "text/plain": [
       "<Figure size 864x288 with 1 Axes>"
      ]
     },
     "metadata": {
      "needs_background": "light"
     },
     "output_type": "display_data"
    }
   ],
   "source": [
    "theta = np.zeros([1,5])\n",
    "theta = run(data, theta, 1, STOP_ITER, threshold= 20, alpha= 0.01)"
   ]
  },
  {
   "cell_type": "markdown",
   "metadata": {},
   "source": [
    "**减小学习率，可以增加稳定性，但cost变大了**"
   ]
  },
  {
   "cell_type": "code",
   "execution_count": 318,
   "metadata": {},
   "outputs": [
    {
     "name": "stdout",
     "output_type": "stream",
     "text": [
      "总用时为：0.01s\n",
      "theta: [[-0.01230803 -0.02443412 -0.06675015  0.07545313  0.03096412]]\n",
      "cost: 0.6152  iteration: 151\n"
     ]
    },
    {
     "data": {
      "image/png": "[encoded data removed]",
      "text/plain": [
       "<Figure size 864x288 with 1 Axes>"
      ]
     },
     "metadata": {
      "needs_background": "light"
     },
     "output_type": "display_data"
    }
   ],
   "source": [
    "theta = np.zeros([1,5])\n",
    "theta = run(data, theta, 5, STOP_ITER, threshold= 150, alpha= 0.001)"
   ]
  },
  {
   "cell_type": "markdown",
   "metadata": {},
   "source": [
    "#### Mini-batch descent"
   ]
  },
  {
   "cell_type": "code",
   "execution_count": 319,
   "metadata": {},
   "outputs": [
    {
     "name": "stdout",
     "output_type": "stream",
     "text": [
      "总用时为：0.83s\n",
      "theta: [[-0.58333529 -0.75967366 -3.12955061  4.4112344   1.91928503]]\n",
      "cost: 0.0003  iteration: 10001\n"
     ]
    },
    {
     "data": {
      "image/png": "[encoded data removed]",
      "text/plain": [
       "<Figure size 864x288 with 1 Axes>"
      ]
     },
     "metadata": {
      "needs_background": "light"
     },
     "output_type": "display_data"
    }
   ],
   "source": [
    "theta = np.zeros([1,5])\n",
    "theta = run(data, theta, 16 , STOP_ITER, threshold= 10000, alpha= 0.2)"
   ]
  },
  {
   "cell_type": "markdown",
   "metadata": {},
   "source": [
    "### 精度\n",
    "---"
   ]
  },
  {
   "cell_type": "code",
   "execution_count": 282,
   "metadata": {},
   "outputs": [],
   "source": [
    "def predict(X, theta):\n",
    "    #print(hypothesis(theta=theta, x=X))\n",
    "    return [1 if x >= 0.5 else 0 for x in hypothesis(theta=theta, x=X)]"
   ]
  },
  {
   "cell_type": "code",
   "execution_count": 323,
   "metadata": {},
   "outputs": [
    {
     "name": "stdout",
     "output_type": "stream",
     "text": [
      "accuracy = 49.47%\n"
     ]
    }
   ],
   "source": [
    "x = check_data[:,0:len(check_data[0]) - 1]\n",
    "#print(check_data.shape)\n",
    "y = check_data[:,-1]\n",
    "results = predict(x,theta)\n",
    "ans = 0.0\n",
    "for i in range(len(x)):\n",
    "    if y[i] == results[i]:\n",
    "        ans += 1\n",
    "print('accuracy = {}%'.format(round((ans / len(x)) * 100, 2)))\n",
    "        "
   ]
  },
  {
   "cell_type": "code",
   "execution_count": null,
   "metadata": {},
   "outputs": [],
   "source": []
  }
 ],
 "metadata": {
  "kernelspec": {
   "display_name": "Python 3",
   "language": "python",
   "name": "python3"
  },
  "language_info": {
   "codemirror_mode": {
    "name": "ipython",
    "version": 3
   },
   "file_extension": ".py",
   "mimetype": "text/x-python",
   "name": "python",
   "nbconvert_exporter": "python",
   "pygments_lexer": "ipython3",
   "version": "3.7.3"
  }
 },
 "nbformat": 4,
 "nbformat_minor": 2
}
